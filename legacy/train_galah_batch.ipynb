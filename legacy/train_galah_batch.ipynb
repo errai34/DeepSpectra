{
 "cells": [
  {
   "cell_type": "code",
   "execution_count": 1,
   "metadata": {},
   "outputs": [],
   "source": [
    "import itertools\n",
    "import numpy as np\n",
    "import matplotlib.pyplot as plt\n",
    "\n",
    "import torch\n",
    "import torch.optim as optim\n",
    "import torch.nn.functional as F\n",
    "import torch.nn.init as init\n",
    "from torch import nn\n",
    "from torch import distributions\n",
    "from torch.distributions import (\n",
    "    Normal,\n",
    "    MultivariateNormal,\n",
    "    Uniform,\n",
    "    TransformedDistribution,\n",
    "    SigmoidTransform,\n",
    ")\n",
    "from torch.nn.parameter import Parameter\n",
    "\n",
    "from nflib.flows import (\n",
    "    AffineConstantFlow,\n",
    "    ActNorm,\n",
    "    Invertible1x1Conv,\n",
    "    NormalizingFlow,\n",
    "    NormalizingFlowModel,\n",
    ")\n",
    "from nflib.spline_flows import NSF_CL"
   ]
  },
  {
   "cell_type": "code",
   "execution_count": 2,
   "metadata": {},
   "outputs": [],
   "source": [
    "device = torch.device('cuda' if torch.cuda.is_available() else 'cpu')"
   ]
  },
  {
   "cell_type": "code",
   "execution_count": 3,
   "metadata": {},
   "outputs": [
    {
     "name": "stdout",
     "output_type": "stream",
     "text": [
      "Using the cpu...\n"
     ]
    }
   ],
   "source": [
    "if device.type == 'cuda':\n",
    "    print(torch.cuda.get_device_name(0))\n",
    "elif device.type == \"cpu\":\n",
    "    print('Using the cpu...')"
   ]
  },
  {
   "cell_type": "code",
   "execution_count": 4,
   "metadata": {},
   "outputs": [],
   "source": [
    "# choose data here\n",
    "spectra = np.loadtxt(\"./data/jo_batch_spectra.csv\")"
   ]
  },
  {
   "cell_type": "code",
   "execution_count": 5,
   "metadata": {},
   "outputs": [
    {
     "name": "stdout",
     "output_type": "stream",
     "text": [
      "5000\n"
     ]
    }
   ],
   "source": [
    "spectra = spectra[:, 1:]\n",
    "spectra = spectra.T\n",
    "spectra = torch.Tensor(spectra)\n",
    "dim = spectra.shape[-1]\n",
    "print(dim)"
   ]
  },
  {
   "cell_type": "code",
   "execution_count": 6,
   "metadata": {},
   "outputs": [],
   "source": [
    "# choose prior here\n",
    "base_mu, base_cov = torch.zeros(dim).to(device), torch.eye(dim).to(device)\n",
    "prior = MultivariateNormal(base_mu, base_cov)"
   ]
  },
  {
   "cell_type": "code",
   "execution_count": 7,
   "metadata": {},
   "outputs": [],
   "source": [
    "# configure the normalising flow\n",
    "nfs_flow = NSF_CL\n",
    "flows = [nfs_flow(dim=dim, K=8, B=3, hidden_dim=128) for _ in range(5)]\n",
    "convs = [Invertible1x1Conv(dim=dim) for _ in flows]\n",
    "norms = [ActNorm(dim=dim) for _ in flows]\n",
    "flows = list(itertools.chain(*zip(norms, convs, flows)))"
   ]
  },
  {
   "cell_type": "markdown",
   "metadata": {},
   "source": [
    "> the training "
   ]
  },
  {
   "cell_type": "code",
   "execution_count": null,
   "metadata": {},
   "outputs": [],
   "source": [
    "# initialise the model\n",
    "# model = NormalizingFlowModel(prior, flows).to(device)\n",
    "# optimizer\n",
    "#optimizer = optim.Adam(model.parameters(), lr=2e-6, weight_decay=0)  # todo tune WD\n",
    "#print(\"number of params: \", sum(p.numel() for p in model.parameters()))\n",
    "# train_loader\n",
    "#train_loader = torch.utils.data.DataLoader(\n",
    "#    spectra, batch_size=71, shuffle=True, pin_memory=True\n",
    "#)\n",
    "\n",
    "#model.train()\n",
    "#print(\"Started training\")\n",
    "#for k in range(20000):\n",
    "#    for batch_idx, data_batch in enumerate(train_loader):\n",
    "#        x = data_batch.to(device)\n",
    "#        zs, prior_logprob, log_det = model(x)\n",
    "#        logprob = prior_logprob + log_det\n",
    "#        loss = -torch.sum(logprob)  # NLL\n",
    "\n",
    "#        model.zero_grad()\n",
    "#        loss.backward()\n",
    "#        optimizer.step()\n",
    "\n",
    "#    if k % 500 == 0:\n",
    "#        print(\"Loss at step k =\", str(k) + \":\", loss.item())\n",
    "        \n",
    "#path = f\"model_galah_batch.pth\"\n",
    "#torch.save(model.state_dict(), path)\n",
    "#print(\"Hooray. You're done.\")\n",
    "#print(\"Saved model to:\", path)"
   ]
  },
  {
   "cell_type": "code",
   "execution_count": 8,
   "metadata": {},
   "outputs": [
    {
     "data": {
      "text/plain": [
       "NormalizingFlowModel(\n",
       "  (flow): NormalizingFlow(\n",
       "    (flows): ModuleList(\n",
       "      (0): ActNorm()\n",
       "      (1): Invertible1x1Conv()\n",
       "      (2): NSF_CL(\n",
       "        (f1): MLP(\n",
       "          (net): Sequential(\n",
       "            (0): Linear(in_features=2500, out_features=128, bias=True)\n",
       "            (1): LeakyReLU(negative_slope=0.2)\n",
       "            (2): Linear(in_features=128, out_features=128, bias=True)\n",
       "            (3): LeakyReLU(negative_slope=0.2)\n",
       "            (4): Linear(in_features=128, out_features=128, bias=True)\n",
       "            (5): LeakyReLU(negative_slope=0.2)\n",
       "            (6): Linear(in_features=128, out_features=57500, bias=True)\n",
       "          )\n",
       "        )\n",
       "        (f2): MLP(\n",
       "          (net): Sequential(\n",
       "            (0): Linear(in_features=2500, out_features=128, bias=True)\n",
       "            (1): LeakyReLU(negative_slope=0.2)\n",
       "            (2): Linear(in_features=128, out_features=128, bias=True)\n",
       "            (3): LeakyReLU(negative_slope=0.2)\n",
       "            (4): Linear(in_features=128, out_features=128, bias=True)\n",
       "            (5): LeakyReLU(negative_slope=0.2)\n",
       "            (6): Linear(in_features=128, out_features=57500, bias=True)\n",
       "          )\n",
       "        )\n",
       "      )\n",
       "      (3): ActNorm()\n",
       "      (4): Invertible1x1Conv()\n",
       "      (5): NSF_CL(\n",
       "        (f1): MLP(\n",
       "          (net): Sequential(\n",
       "            (0): Linear(in_features=2500, out_features=128, bias=True)\n",
       "            (1): LeakyReLU(negative_slope=0.2)\n",
       "            (2): Linear(in_features=128, out_features=128, bias=True)\n",
       "            (3): LeakyReLU(negative_slope=0.2)\n",
       "            (4): Linear(in_features=128, out_features=128, bias=True)\n",
       "            (5): LeakyReLU(negative_slope=0.2)\n",
       "            (6): Linear(in_features=128, out_features=57500, bias=True)\n",
       "          )\n",
       "        )\n",
       "        (f2): MLP(\n",
       "          (net): Sequential(\n",
       "            (0): Linear(in_features=2500, out_features=128, bias=True)\n",
       "            (1): LeakyReLU(negative_slope=0.2)\n",
       "            (2): Linear(in_features=128, out_features=128, bias=True)\n",
       "            (3): LeakyReLU(negative_slope=0.2)\n",
       "            (4): Linear(in_features=128, out_features=128, bias=True)\n",
       "            (5): LeakyReLU(negative_slope=0.2)\n",
       "            (6): Linear(in_features=128, out_features=57500, bias=True)\n",
       "          )\n",
       "        )\n",
       "      )\n",
       "      (6): ActNorm()\n",
       "      (7): Invertible1x1Conv()\n",
       "      (8): NSF_CL(\n",
       "        (f1): MLP(\n",
       "          (net): Sequential(\n",
       "            (0): Linear(in_features=2500, out_features=128, bias=True)\n",
       "            (1): LeakyReLU(negative_slope=0.2)\n",
       "            (2): Linear(in_features=128, out_features=128, bias=True)\n",
       "            (3): LeakyReLU(negative_slope=0.2)\n",
       "            (4): Linear(in_features=128, out_features=128, bias=True)\n",
       "            (5): LeakyReLU(negative_slope=0.2)\n",
       "            (6): Linear(in_features=128, out_features=57500, bias=True)\n",
       "          )\n",
       "        )\n",
       "        (f2): MLP(\n",
       "          (net): Sequential(\n",
       "            (0): Linear(in_features=2500, out_features=128, bias=True)\n",
       "            (1): LeakyReLU(negative_slope=0.2)\n",
       "            (2): Linear(in_features=128, out_features=128, bias=True)\n",
       "            (3): LeakyReLU(negative_slope=0.2)\n",
       "            (4): Linear(in_features=128, out_features=128, bias=True)\n",
       "            (5): LeakyReLU(negative_slope=0.2)\n",
       "            (6): Linear(in_features=128, out_features=57500, bias=True)\n",
       "          )\n",
       "        )\n",
       "      )\n",
       "      (9): ActNorm()\n",
       "      (10): Invertible1x1Conv()\n",
       "      (11): NSF_CL(\n",
       "        (f1): MLP(\n",
       "          (net): Sequential(\n",
       "            (0): Linear(in_features=2500, out_features=128, bias=True)\n",
       "            (1): LeakyReLU(negative_slope=0.2)\n",
       "            (2): Linear(in_features=128, out_features=128, bias=True)\n",
       "            (3): LeakyReLU(negative_slope=0.2)\n",
       "            (4): Linear(in_features=128, out_features=128, bias=True)\n",
       "            (5): LeakyReLU(negative_slope=0.2)\n",
       "            (6): Linear(in_features=128, out_features=57500, bias=True)\n",
       "          )\n",
       "        )\n",
       "        (f2): MLP(\n",
       "          (net): Sequential(\n",
       "            (0): Linear(in_features=2500, out_features=128, bias=True)\n",
       "            (1): LeakyReLU(negative_slope=0.2)\n",
       "            (2): Linear(in_features=128, out_features=128, bias=True)\n",
       "            (3): LeakyReLU(negative_slope=0.2)\n",
       "            (4): Linear(in_features=128, out_features=128, bias=True)\n",
       "            (5): LeakyReLU(negative_slope=0.2)\n",
       "            (6): Linear(in_features=128, out_features=57500, bias=True)\n",
       "          )\n",
       "        )\n",
       "      )\n",
       "      (12): ActNorm()\n",
       "      (13): Invertible1x1Conv()\n",
       "      (14): NSF_CL(\n",
       "        (f1): MLP(\n",
       "          (net): Sequential(\n",
       "            (0): Linear(in_features=2500, out_features=128, bias=True)\n",
       "            (1): LeakyReLU(negative_slope=0.2)\n",
       "            (2): Linear(in_features=128, out_features=128, bias=True)\n",
       "            (3): LeakyReLU(negative_slope=0.2)\n",
       "            (4): Linear(in_features=128, out_features=128, bias=True)\n",
       "            (5): LeakyReLU(negative_slope=0.2)\n",
       "            (6): Linear(in_features=128, out_features=57500, bias=True)\n",
       "          )\n",
       "        )\n",
       "        (f2): MLP(\n",
       "          (net): Sequential(\n",
       "            (0): Linear(in_features=2500, out_features=128, bias=True)\n",
       "            (1): LeakyReLU(negative_slope=0.2)\n",
       "            (2): Linear(in_features=128, out_features=128, bias=True)\n",
       "            (3): LeakyReLU(negative_slope=0.2)\n",
       "            (4): Linear(in_features=128, out_features=128, bias=True)\n",
       "            (5): LeakyReLU(negative_slope=0.2)\n",
       "            (6): Linear(in_features=128, out_features=57500, bias=True)\n",
       "          )\n",
       "        )\n",
       "      )\n",
       "    )\n",
       "  )\n",
       ")"
      ]
     },
     "execution_count": 8,
     "metadata": {},
     "output_type": "execute_result"
    }
   ],
   "source": [
    "fname = f'model_galah_batch.pth'\n",
    "state_dict = torch.load(fname, map_location=torch.device('cpu'))\n",
    "\n",
    "model = NormalizingFlowModel(prior, flows).to(device)\n",
    "\n",
    "model.eval()"
   ]
  },
  {
   "cell_type": "code",
   "execution_count": 9,
   "metadata": {},
   "outputs": [],
   "source": [
    "zs = model.sample(50)\n",
    "z = zs[-1]\n",
    "z = z.to('cpu')\n",
    "z = z.detach().numpy()"
   ]
  },
  {
   "cell_type": "markdown",
   "metadata": {},
   "source": [
    "> how it should look like..."
   ]
  },
  {
   "cell_type": "code",
   "execution_count": 12,
   "metadata": {},
   "outputs": [
    {
     "data": {
      "text/plain": [
       "[<matplotlib.lines.Line2D at 0x2127b8cf8>]"
      ]
     },
     "execution_count": 12,
     "metadata": {},
     "output_type": "execute_result"
    },
    {
     "data": {
      "image/png": "[encoded data removed]",
      "text/plain": [
       "<Figure size 432x288 with 1 Axes>"
      ]
     },
     "metadata": {
      "needs_background": "light"
     },
     "output_type": "display_data"
    }
   ],
   "source": [
    "plt.plot(spectra[0]-0.5)"
   ]
  },
  {
   "cell_type": "markdown",
   "metadata": {},
   "source": [
    "> how it looks like..."
   ]
  },
  {
   "cell_type": "code",
   "execution_count": 10,
   "metadata": {},
   "outputs": [
    {
     "data": {
      "image/png": "[encoded data removed]",
      "text/plain": [
       "<Figure size 432x288 with 1 Axes>"
      ]
     },
     "metadata": {
      "needs_background": "light"
     },
     "output_type": "display_data"
    }
   ],
   "source": [
    "fig = plt.figure()\n",
    "\n",
    "for i in range(5):\n",
    "    plt.plot(z[i])"
   ]
  },
  {
   "cell_type": "code",
   "execution_count": null,
   "metadata": {},
   "outputs": [],
   "source": []
  }
 ],
 "metadata": {
  "kernelspec": {
   "display_name": "Python 3",
   "language": "python",
   "name": "python3"
  },
  "language_info": {
   "codemirror_mode": {
    "name": "ipython",
    "version": 3
   },
   "file_extension": ".py",
   "mimetype": "text/x-python",
   "name": "python",
   "nbconvert_exporter": "python",
   "pygments_lexer": "ipython3",
   "version": "3.6.12"
  }
 },
 "nbformat": 4,
 "nbformat_minor": 4
}
